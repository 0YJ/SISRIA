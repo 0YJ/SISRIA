{
 "cells": [
  {
   "cell_type": "markdown",
   "metadata": {},
   "source": [
    "# Single Image Super Resolution Using Deep Convolutional Network"
   ]
  },
  {
   "cell_type": "raw",
   "metadata": {},
   "source": [
    "Md Kamrul Hasan\n",
    "Yujie"
   ]
  },
  {
   "cell_type": "code",
   "execution_count": null,
   "metadata": {},
   "outputs": [],
   "source": []
  },
  {
   "cell_type": "markdown",
   "metadata": {},
   "source": [
    "# Initialising all the pacage and necessary library"
   ]
  },
  {
   "cell_type": "code",
   "execution_count": 1,
   "metadata": {},
   "outputs": [
    {
     "name": "stderr",
     "output_type": "stream",
     "text": [
      "Using TensorFlow backend.\n"
     ]
    }
   ],
   "source": [
    "from keras.models import Sequential\n",
    "from keras.layers import Conv2D\n",
    "from keras.optimizers import SGD, adam\n",
    "import psnr\n",
    "import numpy\n",
    "import math\n",
    "import os\n",
    "import cv2\n",
    "import h5py\n",
    "import numpy\n",
    "import matplotlib.pyplot as plt"
   ]
  },
  {
   "cell_type": "markdown",
   "metadata": {},
   "source": [
    "# PSNR Function"
   ]
  },
  {
   "cell_type": "code",
   "execution_count": 2,
   "metadata": {},
   "outputs": [],
   "source": [
    "def psnr(target, ref):\n",
    "    # assume RGB image\n",
    "    target_data = numpy.array(target, dtype=float)\n",
    "    ref_data = numpy.array(ref, dtype=float)\n",
    "\n",
    "    diff = ref_data - target_data\n",
    "    diff = diff.flatten('C')\n",
    "\n",
    "    rmse = math.sqrt(numpy.mean(diff ** 2.))\n",
    "\n",
    "    return 20 * math.log10(255. / rmse)"
   ]
  },
  {
   "cell_type": "markdown",
   "metadata": {},
   "source": [
    "# Readin Training Data"
   ]
  },
  {
   "cell_type": "code",
   "execution_count": 3,
   "metadata": {},
   "outputs": [],
   "source": [
    "def read_training_data(file):\n",
    "    with h5py.File(file, 'r') as hf:\n",
    "        data = numpy.array(hf.get('data'))\n",
    "        label = numpy.array(hf.get('label'))\n",
    "        train_data = numpy.transpose(data, (0, 2, 3, 1))\n",
    "        train_label = numpy.transpose(label, (0, 2, 3, 1))\n",
    "        return train_data, train_label"
   ]
  },
  {
   "cell_type": "markdown",
   "metadata": {},
   "source": [
    "# Designing the CNN Model architecture "
   ]
  },
  {
   "cell_type": "code",
   "execution_count": 81,
   "metadata": {},
   "outputs": [],
   "source": [
    "def model():\n",
    "    SRCNNIA = Sequential()\n",
    "    SRCNNIA.add(Conv2D(64,(9,9),padding='same',input_shape = (None,None,1)))\n",
    "    SRCNNIA.add(Activation('relu')) \n",
    "    SRCNNIA.add(Conv2D(32,(1,1),padding='same'))\n",
    "    SRCNNA.add(Activation('relu'))\n",
    "    SRCNNIA.add(Conv2D(1,(5,5),padding='same'))\n",
    "    Adam = adam(lr=0.001)\n",
    "    SRCNNIA.compile(optimizer=Adam, loss='mean_squared_error', metrics=['mean_squared_error'])\n",
    "    \n",
    "    return SRCNNIA\n"
   ]
  },
  {
   "cell_type": "markdown",
   "metadata": {},
   "source": [
    "# Predicting the HR Image from LR image"
   ]
  },
  {
   "cell_type": "code",
   "execution_count": 90,
   "metadata": {},
   "outputs": [],
   "source": [
    "def predict():\n",
    "    srcnn_model = model()\n",
    "    srcnn_model.load_weights(\"m_model_adam30_64.h5\")\n",
    "    IMG_NAMEO =\"./Test/Set14/WTruckHr.JPG\"\n",
    "    IMG_NAME = \"./Test/Set14/WTruckLr.jpg\"\n",
    "    INPUT_NAME = \"inputWR.jpg\"\n",
    "    OUTPUT_NAME = \"pre_adam30cecropWRN.jpg\"\n",
    "    \n",
    "\n",
    "    import cv2\n",
    "    imgo = cv2.imread(IMG_NAMEO)\n",
    "    img = cv2.imread(IMG_NAME)\n",
    "    shape = img.shape\n",
    "    #img = cv2.resize(img, (int(shape[1] / 2), int(shape[0] / 2)))\n",
    "    \n",
    "    img = cv2.resize(img, (shape[1]*2, shape[0]*2), cv2.INTER_CUBIC)\n",
    "    cv2.imwrite(INPUT_NAME, img)\n",
    "    img = cv2.cvtColor(img, cv2.COLOR_BGR2YCrCb)\n",
    "    Y = numpy.zeros((1, img.shape[0], img.shape[1], 1))\n",
    "    Y[0, :, :, 0] = img[:, :, 0]\n",
    "    pre = srcnn_model.predict(Y, batch_size=1)\n",
    "    pre[pre[:] > 255] = 255\n",
    "    pre[pre[:] < 0] = 0\n",
    "    pre = pre.astype(numpy.uint8)\n",
    "    img[6: -6, 6: -6, 0] = pre[0, :, :, 0]\n",
    "    img = cv2.cvtColor(img, cv2.COLOR_YCrCb2BGR)\n",
    "    cv2.imwrite(OUTPUT_NAME, img)\n",
    "\n",
    "    # psnr calculation:\n",
    "    im1 = cv2.imread(IMG_NAME, cv2.IMREAD_COLOR)\n",
    "    im1 = cv2.cvtColor(im1, cv2.COLOR_BGR2YCrCb)[6: -6, 6: -6, 0]\n",
    "    im2 = cv2.imread(INPUT_NAME, cv2.IMREAD_COLOR)\n",
    "    im2 = cv2.cvtColor(im2, cv2.COLOR_BGR2YCrCb)[6: -6, 6: -6, 0]\n",
    "    im3 = cv2.imread(OUTPUT_NAME, cv2.IMREAD_COLOR)\n",
    "    im3 = cv2.cvtColor(im3, cv2.COLOR_BGR2YCrCb)[6: -6, 6: -6, 0]\n",
    "    im4 = cv2.imread(IMG_NAMEO, cv2.IMREAD_COLOR)\n",
    "    im4 = cv2.cvtColor(im4, cv2.COLOR_BGR2YCrCb)[6: -6, 6: -6, 0]\n",
    "\n",
    "    print(\"bicubic:\")\n",
    "    print(psnr(im1, im2))\n",
    "    print(\"SRCNN:\")\n",
    "    print(psnr(im3, im4))\n",
    "    print(history.history.keys())\n",
    "    plt.figure(1)\n",
    "    plt.plot(history.history['loss'])\n",
    "    plt.title('mean_squared_error')\n",
    "    plt.ylabel('loss')\n",
    "    plt.xlabel('epoch')\n",
    "    plt.show()\n",
    "    plt.savefig(\"m_model_adam30_ce.png\")\n",
    "    \n",
    "    print(history.model.layers[1].output)\n",
    "    \n",
    "   # psnr = compare_psnr(im1,im3)\n",
    "   # print(ssim)"
   ]
  },
  {
   "cell_type": "markdown",
   "metadata": {},
   "source": [
    "# Running the model and saving the model result with .h5"
   ]
  },
  {
   "cell_type": "code",
   "execution_count": 85,
   "metadata": {},
   "outputs": [
    {
     "name": "stderr",
     "output_type": "stream",
     "text": [
      "C:\\Users\\hasan\\Anaconda3\\envs\\DL\\lib\\site-packages\\ipykernel_launcher.py:4: UserWarning: Update your `Conv2D` call to the Keras 2 API: `Conv2D(activation=\"relu\", filters=64, use_bias=True, kernel_size=(9, 9), kernel_initializer=\"he_normal\", input_shape=(None, Non..., padding=\"valid\")`\n",
      "  after removing the cwd from sys.path.\n",
      "C:\\Users\\hasan\\Anaconda3\\envs\\DL\\lib\\site-packages\\ipykernel_launcher.py:6: UserWarning: Update your `Conv2D` call to the Keras 2 API: `Conv2D(activation=\"relu\", filters=32, padding=\"valid\", use_bias=True, kernel_size=(1, 1), kernel_initializer=\"he_normal\")`\n",
      "  \n",
      "C:\\Users\\hasan\\Anaconda3\\envs\\DL\\lib\\site-packages\\ipykernel_launcher.py:8: UserWarning: Update your `Conv2D` call to the Keras 2 API: `Conv2D(activation=\"linear\", filters=1, padding=\"valid\", use_bias=True, kernel_size=(5, 5), kernel_initializer=\"he_normal\")`\n",
      "  \n"
     ]
    },
    {
     "name": "stdout",
     "output_type": "stream",
     "text": [
      "_________________________________________________________________\n",
      "Layer (type)                 Output Shape              Param #   \n",
      "=================================================================\n",
      "conv2d_106 (Conv2D)          (None, None, None, 64)    5248      \n",
      "_________________________________________________________________\n",
      "conv2d_107 (Conv2D)          (None, None, None, 32)    2080      \n",
      "_________________________________________________________________\n",
      "conv2d_108 (Conv2D)          (None, None, None, 1)     801       \n",
      "=================================================================\n",
      "Total params: 8,129\n",
      "Trainable params: 8,129\n",
      "Non-trainable params: 0\n",
      "_________________________________________________________________\n"
     ]
    },
    {
     "name": "stderr",
     "output_type": "stream",
     "text": [
      "C:\\Users\\hasan\\Anaconda3\\envs\\DL\\lib\\site-packages\\keras\\models.py:981: UserWarning: The `nb_epoch` argument in `fit` has been renamed `epochs`.\n",
      "  warnings.warn('The `nb_epoch` argument in `fit` '\n"
     ]
    },
    {
     "name": "stdout",
     "output_type": "stream",
     "text": [
      "Epoch 1/30\n",
      "40000/40000 [==============================] - 97s 2ms/step - loss: 0.0043 - mean_squared_error: 0.0043\n",
      "Epoch 2/30\n",
      "40000/40000 [==============================] - 94s 2ms/step - loss: 0.0036 - mean_squared_error: 0.0036\n",
      "Epoch 3/30\n",
      "40000/40000 [==============================] - 94s 2ms/step - loss: 0.0036 - mean_squared_error: 0.0036\n",
      "Epoch 4/30\n",
      "40000/40000 [==============================] - 97s 2ms/step - loss: 0.0035 - mean_squared_error: 0.0035\n",
      "Epoch 5/30\n",
      "40000/40000 [==============================] - 97s 2ms/step - loss: 0.0035 - mean_squared_error: 0.0035\n",
      "Epoch 6/30\n",
      "40000/40000 [==============================] - 97s 2ms/step - loss: 0.0035 - mean_squared_error: 0.0035\n",
      "Epoch 7/30\n",
      "40000/40000 [==============================] - 98s 2ms/step - loss: 0.0035 - mean_squared_error: 0.0035\n",
      "Epoch 8/30\n",
      "40000/40000 [==============================] - 97s 2ms/step - loss: 0.0034 - mean_squared_error: 0.0034\n",
      "Epoch 9/30\n",
      "40000/40000 [==============================] - 98s 2ms/step - loss: 0.0034 - mean_squared_error: 0.0034\n",
      "Epoch 10/30\n",
      "40000/40000 [==============================] - 99s 2ms/step - loss: 0.0034 - mean_squared_error: 0.0034\n",
      "Epoch 11/30\n",
      "40000/40000 [==============================] - 100s 3ms/step - loss: 0.0034 - mean_squared_error: 0.0034\n",
      "Epoch 12/30\n",
      "40000/40000 [==============================] - 104s 3ms/step - loss: 0.0034 - mean_squared_error: 0.0034\n",
      "Epoch 13/30\n",
      "40000/40000 [==============================] - 103s 3ms/step - loss: 0.0035 - mean_squared_error: 0.0035\n",
      "Epoch 14/30\n",
      "40000/40000 [==============================] - 98s 2ms/step - loss: 0.0034 - mean_squared_error: 0.0034\n",
      "Epoch 15/30\n",
      "40000/40000 [==============================] - 97s 2ms/step - loss: 0.0034 - mean_squared_error: 0.0034\n",
      "Epoch 16/30\n",
      "40000/40000 [==============================] - 100s 2ms/step - loss: 0.0034 - mean_squared_error: 0.0034\n",
      "Epoch 17/30\n",
      "40000/40000 [==============================] - 103s 3ms/step - loss: 0.0034 - mean_squared_error: 0.0034\n",
      "Epoch 18/30\n",
      "40000/40000 [==============================] - 100s 3ms/step - loss: 0.0034 - mean_squared_error: 0.0034\n",
      "Epoch 19/30\n",
      "40000/40000 [==============================] - 100s 3ms/step - loss: 0.0034 - mean_squared_error: 0.0034\n",
      "Epoch 20/30\n",
      "40000/40000 [==============================] - 100s 2ms/step - loss: 0.0034 - mean_squared_error: 0.0034\n",
      "Epoch 21/30\n",
      "40000/40000 [==============================] - 99s 2ms/step - loss: 0.0034 - mean_squared_error: 0.0034\n",
      "Epoch 22/30\n",
      "40000/40000 [==============================] - 106s 3ms/step - loss: 0.0034 - mean_squared_error: 0.0034\n",
      "Epoch 23/30\n",
      "40000/40000 [==============================] - 122s 3ms/step - loss: 0.0034 - mean_squared_error: 0.0034\n",
      "Epoch 24/30\n",
      "40000/40000 [==============================] - 101s 3ms/step - loss: 0.0034 - mean_squared_error: 0.0034\n",
      "Epoch 25/30\n",
      "40000/40000 [==============================] - 103s 3ms/step - loss: 0.0034 - mean_squared_error: 0.0034\n",
      "Epoch 26/30\n",
      "40000/40000 [==============================] - 101s 3ms/step - loss: 0.0034 - mean_squared_error: 0.0034\n",
      "Epoch 27/30\n",
      "40000/40000 [==============================] - 101s 3ms/step - loss: 0.0034 - mean_squared_error: 0.0034\n",
      "Epoch 28/30\n",
      "40000/40000 [==============================] - 103s 3ms/step - loss: 0.0034 - mean_squared_error: 0.0034\n",
      "Epoch 29/30\n",
      "40000/40000 [==============================] - 103s 3ms/step - loss: 0.0034 - mean_squared_error: 0.0034\n",
      "Epoch 30/30\n",
      "40000/40000 [==============================] - 103s 3ms/step - loss: 0.0034 - mean_squared_error: 0.0034\n",
      "dict_keys(['mean_squared_error', 'loss'])\n"
     ]
    },
    {
     "data": {
      "image/png": "[encoded data removed]",
      "text/plain": [
       "<Figure size 432x288 with 1 Axes>"
      ]
     },
     "metadata": {},
     "output_type": "display_data"
    },
    {
     "data": {
      "text/plain": [
       "<Figure size 432x288 with 0 Axes>"
      ]
     },
     "metadata": {},
     "output_type": "display_data"
    }
   ],
   "source": [
    "srcnn_model = model()\n",
    "srcnn_model.summary()\n",
    "data, label = read_training_data(\"./train.h5\")\n",
    "    # srcnn_model.load_weights(\"m_model_adam.h5\")\n",
    "history=srcnn_model.fit(data, label, batch_size=128, nb_epoch=30)\n",
    "srcnn_model.save_weights(\"m_model_adam30_64.h5\")\n",
    "print(history.history.keys())\n",
    "plt.figure(1)\n",
    "plt.plot(history.history['loss'])\n",
    "plt.title('model loss')\n",
    "plt.ylabel('loss')\n",
    "plt.xlabel('epoch')\n",
    "plt.show()\n",
    "plt.savefig(\"m_model_adam30_ce.png\")\n"
   ]
  },
  {
   "cell_type": "markdown",
   "metadata": {},
   "source": [
    "# Final rediction from main function callding the predict() function"
   ]
  },
  {
   "cell_type": "code",
   "execution_count": 91,
   "metadata": {},
   "outputs": [
    {
     "name": "stderr",
     "output_type": "stream",
     "text": [
      "C:\\Users\\hasan\\Anaconda3\\envs\\DL\\lib\\site-packages\\ipykernel_launcher.py:4: UserWarning: Update your `Conv2D` call to the Keras 2 API: `Conv2D(activation=\"relu\", filters=64, use_bias=True, kernel_size=(9, 9), kernel_initializer=\"he_normal\", input_shape=(None, Non..., padding=\"valid\")`\n",
      "  after removing the cwd from sys.path.\n",
      "C:\\Users\\hasan\\Anaconda3\\envs\\DL\\lib\\site-packages\\ipykernel_launcher.py:6: UserWarning: Update your `Conv2D` call to the Keras 2 API: `Conv2D(activation=\"relu\", filters=32, padding=\"valid\", use_bias=True, kernel_size=(1, 1), kernel_initializer=\"he_normal\")`\n",
      "  \n",
      "C:\\Users\\hasan\\Anaconda3\\envs\\DL\\lib\\site-packages\\ipykernel_launcher.py:8: UserWarning: Update your `Conv2D` call to the Keras 2 API: `Conv2D(activation=\"linear\", filters=1, padding=\"valid\", use_bias=True, kernel_size=(5, 5), kernel_initializer=\"he_normal\")`\n",
      "  \n"
     ]
    },
    {
     "name": "stdout",
     "output_type": "stream",
     "text": [
      "bicubic:\n",
      "SRCNN:\n",
      "18.550807961693828\n",
      "dict_keys(['mean_squared_error', 'loss'])\n"
     ]
    },
    {
     "data": {
      "image/png": "[encoded data removed]",
      "text/plain": [
       "<Figure size 432x288 with 1 Axes>"
      ]
     },
     "metadata": {},
     "output_type": "display_data"
    },
    {
     "name": "stdout",
     "output_type": "stream",
     "text": [
      "Tensor(\"conv2d_107/Relu:0\", shape=(?, ?, ?, 32), dtype=float32)\n"
     ]
    },
    {
     "data": {
      "text/plain": [
       "<Figure size 432x288 with 0 Axes>"
      ]
     },
     "metadata": {},
     "output_type": "display_data"
    }
   ],
   "source": [
    "if __name__ == \"__main__\":\n",
    "    #train()\n",
    "    predict()"
   ]
  },
  {
   "cell_type": "code",
   "execution_count": 95,
   "metadata": {},
   "outputs": [
    {
     "data": {
      "image/png": "[encoded data removed]",
      "text/plain": [
       "<Figure size 864x576 with 30 Axes>"
      ]
     },
     "metadata": {},
     "output_type": "display_data"
    }
   ],
   "source": [
    "weight_conv2d_1 = history.model.layers[0].get_weights()[0][:,:,0,:]\n",
    " \n",
    "col_size = 6\n",
    "row_size = 5\n",
    "filter_index = 0\n",
    "fig, ax = plt.subplots(row_size, col_size, figsize=(12,8))\n",
    "for row in range(0,row_size): \n",
    "  for col in range(0,col_size):\n",
    "    ax[row][col].imshow(weight_conv2d_1[:,:,filter_index],cmap=\"gray\")\n",
    "    filter_index += 1"
   ]
  },
  {
   "cell_type": "code",
   "execution_count": null,
   "metadata": {},
   "outputs": [],
   "source": []
  }
 ],
 "metadata": {
  "kernelspec": {
   "display_name": "Python 3",
   "language": "python",
   "name": "python3"
  },
  "language_info": {
   "codemirror_mode": {
    "name": "ipython",
    "version": 3
   },
   "file_extension": ".py",
   "mimetype": "text/x-python",
   "name": "python",
   "nbconvert_exporter": "python",
   "pygments_lexer": "ipython3",
   "version": "3.5.5"
  },
  "widgets": {
   "state": {},
   "version": "1.1.2"
  }
 },
 "nbformat": 4,
 "nbformat_minor": 2
}
